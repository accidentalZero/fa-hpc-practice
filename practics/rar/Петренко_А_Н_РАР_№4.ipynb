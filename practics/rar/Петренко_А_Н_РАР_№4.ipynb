{
  "cells": [
    {
      "cell_type": "markdown",
      "metadata": {
        "id": "fl-OZFWSorBp"
      },
      "source": [
        "# РАР вариант №4 на тему: \"Надежность сети\"\n",
        "\n",
        "**Выполнил:** студент группы ЗБ-ПИ20-2 Петренко Артемий\n",
        "\n",
        "## Условие\n",
        "Дана сеть, ее подсеть, вероятности неисправности при проходе по каждому из ребер и надежность сети $q$. Узнать, верно ли, что для любых двух узлов подсети между ними существует путь с надежностью не меньшей чем $q$."
      ]
    },
    {
      "cell_type": "markdown",
      "metadata": {
        "id": "S2ECV4PVpK3o"
      },
      "source": [
        "## Решение\n",
        "Задача сводится к решению проблемы о поиске пути, при этом найденный путь должен обладать надежностью не меньше заданной. Соответственно параметр надежности становится весами ребер графа, которым мы будем представлять сеть. Для поиска пути существует множество разных алгоритмов, наиболее популярным и функциональным являтся алгоритм Дейкстры."
      ]
    },
    {
      "cell_type": "markdown",
      "metadata": {
        "id": "0xTSLLe5344h"
      },
      "source": [
        "### Простая реализация алгоритма Дейкстры"
      ]
    },
    {
      "cell_type": "code",
      "execution_count": null,
      "metadata": {
        "id": "-TAryv_0395Z"
      },
      "outputs": [],
      "source": [
        "import numpy as np\n",
        "import timeit\n",
        "\n",
        "def serial_dijkstra(graph, start):\n",
        "    n = graph.shape[0]\n",
        "    distances = np.full(n, np.inf)\n",
        "    distances[start] = 0\n",
        "    visited = np.zeros(n)\n",
        "    visited[start] = 1\n",
        "    for i in range(n):\n",
        "        if visited[i]:\n",
        "            for j in range(n):\n",
        "                if graph[i][j] and distances[j] > distances[i] + graph[i][j]:\n",
        "                    distances[j] = distances[i] + graph[i][j]\n",
        "                    visited[j] = 1\n",
        "    return distances\n",
        "\n",
        "def test_serial_dijkstra_gpu(graph,  start = 0):\n",
        "    distance = serial_dijkstra(graph, start)\n",
        "    return [graph.shape[0], np.count_nonzero(graph)//2]\n",
        "\n",
        "def serial_execution_time(graph,  start = 0):\n",
        "    time = timeit.timeit(lambda: test_serial_dijkstra_gpu(graph, start), number=1)\n",
        "    return time"
      ]
    },
    {
      "cell_type": "markdown",
      "metadata": {
        "id": "GYBbZw2F68np"
      },
      "source": [
        "### Реализация с мультипроцессингом\n"
      ]
    },
    {
      "cell_type": "markdown",
      "metadata": {
        "id": "zs-ulYO6Bxfs"
      },
      "source": [
        "!**Для выполнения кода представленного дальше необходимо переключить среду выполения на T4 GPU**"
      ]
    },
    {
      "cell_type": "markdown",
      "metadata": {
        "id": "mSIbPb9iB80B"
      },
      "source": [
        "Оптимизация решения поставленной задачи сводится к переносу алгоритма Дейкстры на многопоточное выполнение с помощью CUDA ядер"
      ]
    },
    {
      "cell_type": "code",
      "execution_count": null,
      "metadata": {
        "colab": {
          "base_uri": "https://localhost:8080/"
        },
        "id": "_-fenRzpDgWT",
        "outputId": "d7425f05-829e-435f-9132-22adc697c7aa"
      },
      "outputs": [
        {
          "output_type": "stream",
          "name": "stdout",
          "text": [
            "Sun May 12 15:29:11 2024       \n",
            "+---------------------------------------------------------------------------------------+\n",
            "| NVIDIA-SMI 535.104.05             Driver Version: 535.104.05   CUDA Version: 12.2     |\n",
            "|-----------------------------------------+----------------------+----------------------+\n",
            "| GPU  Name                 Persistence-M | Bus-Id        Disp.A | Volatile Uncorr. ECC |\n",
            "| Fan  Temp   Perf          Pwr:Usage/Cap |         Memory-Usage | GPU-Util  Compute M. |\n",
            "|                                         |                      |               MIG M. |\n",
            "|=========================================+======================+======================|\n",
            "|   0  Tesla T4                       Off | 00000000:00:04.0 Off |                    0 |\n",
            "| N/A   59C    P8              10W /  70W |      0MiB / 15360MiB |      0%      Default |\n",
            "|                                         |                      |                  N/A |\n",
            "+-----------------------------------------+----------------------+----------------------+\n",
            "                                                                                         \n",
            "+---------------------------------------------------------------------------------------+\n",
            "| Processes:                                                                            |\n",
            "|  GPU   GI   CI        PID   Type   Process name                            GPU Memory |\n",
            "|        ID   ID                                                             Usage      |\n",
            "|=======================================================================================|\n",
            "|  No running processes found                                                           |\n",
            "+---------------------------------------------------------------------------------------+\n"
          ]
        }
      ],
      "source": [
        "!nvidia-smi"
      ]
    },
    {
      "cell_type": "code",
      "execution_count": null,
      "metadata": {
        "colab": {
          "base_uri": "https://localhost:8080/"
        },
        "id": "Og-8s77D8zar",
        "outputId": "be7546c3-bf31-4a71-aec9-972bd8224fec"
      },
      "outputs": [
        {
          "output_type": "stream",
          "name": "stdout",
          "text": [
            "Requirement already satisfied: pycuda in /usr/local/lib/python3.10/dist-packages (2024.1)\n",
            "Requirement already satisfied: pytools>=2011.2 in /usr/local/lib/python3.10/dist-packages (from pycuda) (2024.1.2)\n",
            "Requirement already satisfied: appdirs>=1.4.0 in /usr/local/lib/python3.10/dist-packages (from pycuda) (1.4.4)\n",
            "Requirement already satisfied: mako in /usr/local/lib/python3.10/dist-packages (from pycuda) (1.3.3)\n",
            "Requirement already satisfied: platformdirs>=2.2.0 in /usr/local/lib/python3.10/dist-packages (from pytools>=2011.2->pycuda) (4.2.1)\n",
            "Requirement already satisfied: typing-extensions>=4.0 in /usr/local/lib/python3.10/dist-packages (from pytools>=2011.2->pycuda) (4.11.0)\n",
            "Requirement already satisfied: MarkupSafe>=0.9.2 in /usr/local/lib/python3.10/dist-packages (from mako->pycuda) (2.1.5)\n",
            "/usr/local/cuda-12.2/compat/libcuda.so.1\n",
            "/usr/local/cuda-12.2/compat/libcuda.so.535.129.03\n",
            "/usr/lib64-nvidia/libcuda.so.535.104.05\n",
            "/usr/lib64-nvidia/libcuda.so.1\n"
          ]
        }
      ],
      "source": [
        "!pip install pycuda\n",
        "!sudo find /usr/ -name 'libcuda.so.*'\n"
      ]
    },
    {
      "cell_type": "code",
      "execution_count": null,
      "metadata": {
        "id": "Z6GP6JuE8dEC"
      },
      "outputs": [],
      "source": [
        "import numpy as np\n",
        "import pycuda.gpuarray as gpuarray\n",
        "import pycuda.driver as cuda\n",
        "import pycuda.autoinit\n",
        "from pycuda.compiler import SourceModule\n",
        "import timeit\n",
        "\n",
        "# CUDA kernel для алгоритма Дейкстры\n",
        "kernel = \"\"\"\n",
        "    __global__ void dijkstra(float *d, int *p, int *visited, int n, int start)\n",
        "    {\n",
        "        int i = threadIdx.x + blockIdx.x * blockDim.x;\n",
        "\n",
        "        if(i < n)\n",
        "        {\n",
        "            if(visited[i] == 0)\n",
        "            {\n",
        "                int j;\n",
        "                for(j = 0; j < n; j++)\n",
        "                {\n",
        "                    if(visited[j] == 1)\n",
        "                    {\n",
        "                        int weight = p[i*n + j];\n",
        "                        if(weight != 0 && d[j] + weight < d[i])\n",
        "                        {\n",
        "                            d[i] = d[j] + weight;\n",
        "                            visited[i] = 1;\n",
        "                        }\n",
        "                        else\n",
        "                        {\n",
        "                            visited[i] = 1;\n",
        "                        }\n",
        "                    }\n",
        "                }\n",
        "            }\n",
        "        }\n",
        "    }\n",
        "\"\"\"\n",
        "\n",
        "def parallel_dijkstra_gpu(graph, start):\n",
        "    n = graph.shape[0]\n",
        "    # Разложение весов матрицы в одномерный массив\n",
        "    graph = graph.flatten()\n",
        "    d = np.full(n, np.inf)\n",
        "    d[start] = 0\n",
        "    visited = np.zeros(n)\n",
        "    visited[start] = 1\n",
        "\n",
        "    # Выделение памяти для GPU\n",
        "    d_gpu = gpuarray.to_gpu(d.astype(np.float32))\n",
        "    p_gpu = gpuarray.to_gpu(graph.astype(np.int32))\n",
        "    visited_gpu = gpuarray.to_gpu(visited.astype(np.int32))\n",
        "\n",
        "\n",
        "    # компиляция CUDA ядра\n",
        "    mod = SourceModule(kernel)\n",
        "    func = mod.get_function(\"dijkstra\")\n",
        "\n",
        "    # Выполнение CUDA ядра\n",
        "    block_size = (256, 1, 1)\n",
        "    grid_size = (int(np.ceil(n / block_size[0])), 1)\n",
        "    for i in range(n):\n",
        "        func(d_gpu, p_gpu, visited_gpu, np.int32(n), np.int32(start), block=block_size, grid=grid_size)\n",
        "\n",
        "    # Получение результатов от CUDA\n",
        "    d = d_gpu.get()\n",
        "    return d\n",
        "\n",
        "\n",
        "# Тест алгоритма\n",
        "def test_parallel_dijkstra_gpu(graph, start = 0):\n",
        "    distance = parallel_dijkstra_gpu(graph, start)\n",
        "    return [graph.shape[0], np.count_nonzero(graph)//2]\n",
        "\n",
        "# Время выполнения\n",
        "def CUDA_execution_time(graph, start = 0):\n",
        "    time = timeit.timeit(lambda: test_parallel_dijkstra_gpu(graph, start), number=1)\n",
        "    return time"
      ]
    },
    {
      "cell_type": "markdown",
      "source": [
        "### Генерация сети"
      ],
      "metadata": {
        "id": "lJFjh6dFNxG3"
      }
    },
    {
      "cell_type": "code",
      "source": [
        "node_count = 400# @param {type:\"number\"}\n",
        "min_weight = 1  # @param {type:\"number\"}\n",
        "max_weight= 10  # @param {type:\"number\"}"
      ],
      "metadata": {
        "id": "0Jx7aEoePq09"
      },
      "execution_count": null,
      "outputs": []
    },
    {
      "cell_type": "code",
      "source": [
        "import random\n",
        "\n",
        "\n",
        "def generate_complex_graph(n, min_weight=1, max_weight=10):\n",
        "    graph = np.zeros((n, n))\n",
        "    for i in range(n):\n",
        "        for j in range(i, n):\n",
        "            if i != j:\n",
        "                weight = random.randint(min_weight, max_weight)\n",
        "                graph[i][j] = weight\n",
        "                graph[j][i] = weight\n",
        "    return graph\n",
        "\n",
        "\n",
        "graph = generate_complex_graph(node_count, min_weight, max_weight)"
      ],
      "metadata": {
        "id": "B5Nn37moQqgT"
      },
      "execution_count": null,
      "outputs": []
    },
    {
      "cell_type": "markdown",
      "source": [
        "### Сравнение реализаций"
      ],
      "metadata": {
        "id": "QX820diCQs8t"
      }
    },
    {
      "cell_type": "code",
      "source": [
        "import matplotlib.pyplot as plt\n",
        "\n",
        "\n",
        "# Получаем время выполнения для обоих алгоритмов\n",
        "serialExecutionTime = serial_execution_time(graph, 0)\n",
        "cudaExecutionTime = CUDA_execution_time(graph, 0)\n",
        "# Данные для теста используем одни и те же, поэтому размерности не будут отличаться\n",
        "nodeCount = test_parallel_dijkstra_gpu(graph, 0)[0]\n",
        "edgeCount = test_parallel_dijkstra_gpu(graph, 0)[1]\n",
        "output_label = f\"Алгоритмы получили одинковое количество узлов ({nodeCount}) и путей ({edgeCount}). \\n\" \\\n",
        "  f\"Время выполнения последовательного алгоритма: {serialExecutionTime:.3f}сек. \\n\" \\\n",
        "  f\"Время выполнения алгоритма с использованием CUDA: {cudaExecutionTime:.3f}сек. \\n\"\n",
        "print(output_label)\n",
        "\n",
        "\n",
        "# Формирование графиков\n",
        "left = [1, 2]\n",
        "# Высота графиков\n",
        "height = [cudaExecutionTime, serialExecutionTime]\n",
        "# Подписи к графиками\n",
        "tick_label = ['Параллельно - CUDA', 'Последовательно - 1xCPU']\n",
        "plt.bar(left, height, tick_label=tick_label,\n",
        "        width=0.5, color=['green', 'red'])\n",
        "plt.xlabel('Реализация алгоритма')\n",
        "plt.ylabel('Время (сек.)')\n",
        "plt.title('Время выполнения')\n",
        "plt.show()"
      ],
      "metadata": {
        "colab": {
          "base_uri": "https://localhost:8080/",
          "height": 541
        },
        "id": "ifA3uB0QG5aR",
        "outputId": "803cf21e-0c5a-4730-822d-4f4ed55a4777"
      },
      "execution_count": null,
      "outputs": [
        {
          "output_type": "stream",
          "name": "stdout",
          "text": [
            "Алгоритмы получили одинковое количество узлов (400) и путей (79800). \n",
            "Время выполнения последовательного алгоритма: 0.124сек. \n",
            "Время выполнения алгоритма с использованием CUDA: 0.014сек. \n",
            "\n"
          ]
        },
        {
          "output_type": "display_data",
          "data": {
            "text/plain": [
              "<Figure size 640x480 with 1 Axes>"
            ],
            "image/png": "[encoded data removed]"
          },
          "metadata": {}
        }
      ]
    },
    {
      "cell_type": "markdown",
      "source": [
        "### Ответ на вопрос задачи"
      ],
      "metadata": {
        "id": "3rx0tVWuWCo1"
      }
    },
    {
      "cell_type": "markdown",
      "source": [
        "Ответ на поставленный вопрос сводится к сравнению полученных весов с заданным $q$, благодаря чему можно узнать существует ли путь с надежностью не меньшей чем $q$ для любых двух узлов подсети."
      ],
      "metadata": {
        "id": "1vc2q8X9TI_7"
      }
    },
    {
      "cell_type": "code",
      "source": [
        "q = 2# @param {type:\"number\"}"
      ],
      "metadata": {
        "id": "8O_8m1umTK5K"
      },
      "execution_count": null,
      "outputs": []
    },
    {
      "cell_type": "code",
      "source": [
        "for i in range(node_count):\n",
        "  paths = parallel_dijkstra_gpu(graph, i)\n",
        "  if np.all(paths < q):\n",
        "    indexes = np.where(paths < q)\n",
        "    print('Ответ: В сети существуют такие пути надежность между которыми меньше чем q')\n",
        "    print('Например путь из вершины', i, 'в вершины:')\n",
        "    print(str(*indexes))\n",
        "    print('Надежности путей')\n",
        "    print(paths)\n",
        "    break\n",
        "else:\n",
        "  print('Ответ: Между каждыми двумя узлами сети есть хотя бы один путь с надежностью не меньше q')\n"
      ],
      "metadata": {
        "colab": {
          "base_uri": "https://localhost:8080/"
        },
        "id": "CgyssyaETSO8",
        "outputId": "02d8e168-12ea-4125-8413-4d17eb257212"
      },
      "execution_count": null,
      "outputs": [
        {
          "output_type": "stream",
          "name": "stdout",
          "text": [
            "Ответ: Между каждыми двумя узлами сети есть хотя бы один путь с надежностью не меньше q\n"
          ]
        }
      ]
    },
    {
      "cell_type": "markdown",
      "source": [
        "Замечание: во время проверки при $q=2$ все пути удовлетворяли требованию по надежности, при $q=3$ уже находились такие пары вершин, между которыми не было ни одного пути с требуемой надежностью. При повторной генерации матрицы путей значения могут отличаться"
      ],
      "metadata": {
        "id": "3ggGcER7Zipx"
      }
    }
  ],
  "metadata": {
    "accelerator": "GPU",
    "colab": {
      "gpuType": "T4",
      "provenance": []
    },
    "kernelspec": {
      "display_name": "Python 3",
      "name": "python3"
    },
    "language_info": {
      "name": "python"
    }
  },
  "nbformat": 4,
  "nbformat_minor": 0
}